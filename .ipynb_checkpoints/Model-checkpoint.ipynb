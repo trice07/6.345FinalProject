{
 "cells": [
  {
   "cell_type": "code",
   "execution_count": 2,
   "metadata": {},
   "outputs": [],
   "source": [
    "import torch\n",
    "import torch.nn as nn\n",
    "import torch.nn.functional as F\n",
    "import torch.optim as optim"
   ]
  },
  {
   "cell_type": "code",
   "execution_count": 3,
   "metadata": {},
   "outputs": [
    {
     "name": "stdout",
     "output_type": "stream",
     "text": [
      "Net(\n",
      "  (local_conv): Conv2d(1, 64, kernel_size=(1, 6), stride=(1, 1))\n",
      "  (global_conv): Conv2d(64, 128, kernel_size=(20, 2), stride=(1, 1))\n",
      "  (dec): LSTM(128, 48, num_layers=2, dropout=0.25)\n",
      "  (denseFF): Linear(in_features=48, out_features=7, bias=True)\n",
      "  (sm): Softmax()\n",
      ")\n"
     ]
    }
   ],
   "source": [
    "class Net(nn.Module):\n",
    "\n",
    "    def __init__(self):\n",
    "        super(Net, self).__init__()\n",
    "        # 1 input image channel, 64 output channels, 1x6  convolution\n",
    "        # kernel\n",
    "        self.local_conv = nn.Conv2d(1, 64, (1,6))\n",
    "        \n",
    "        # 64 input channels (check this?), feature maps from local convolution,\n",
    "        # 128 output channels, 20x2 kernel (check this?)\n",
    "        self.global_conv=nn.Conv2d(64,128,(20,2))\n",
    "        \n",
    "        #LSTM layer,48 cells each,  how to set 0.25 dropout rate ???\n",
    "        self.dec=nn.LSTM(128,48,2,dropout=0.25)\n",
    "        \n",
    "        # Size of output of LSTM, for now use # of hiden state features\n",
    "        self.denseFF=nn.Linear(48,7)\n",
    "        self.sm=nn.Softmax()\n",
    "        \n",
    "    def forward(self, x,hidden):\n",
    "        # Apply ReLu units to the results of convolution, local convoltion layer\n",
    "        x=F.relu(self.local_conv(x))\n",
    "        x=nn.MaxPool1d(4)(x)\n",
    "        \n",
    "        #Global convolution layer\n",
    "        x=F.relu(self.global_conv(x))\n",
    "        x=nn.MaxPool1d(2)(x)\n",
    "        \n",
    "        out,hidden=self.dec(x,hidden)\n",
    "        \n",
    "        # Feed output through dense dense/feedforward layer with softmax activation units to \n",
    "        # classify the input onto one of the 7 emotion categories.\n",
    "        out=self.sm(self.denseFF(out))\n",
    "        return out\n",
    "        \n",
    "\n",
    "\n",
    "\n",
    "net = Net()\n",
    "print(net)"
   ]
  },
  {
   "cell_type": "code",
   "execution_count": null,
   "metadata": {},
   "outputs": [],
   "source": [
    "# training \n",
    "\n"
   ]
  }
 ],
 "metadata": {
  "kernelspec": {
   "display_name": "Python 3",
   "language": "python",
   "name": "python3"
  },
  "language_info": {
   "codemirror_mode": {
    "name": "ipython",
    "version": 3
   },
   "file_extension": ".py",
   "mimetype": "text/x-python",
   "name": "python",
   "nbconvert_exporter": "python",
   "pygments_lexer": "ipython3",
   "version": "3.7.1"
  }
 },
 "nbformat": 4,
 "nbformat_minor": 2
}
